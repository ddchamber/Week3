{
  "nbformat": 4,
  "nbformat_minor": 0,
  "metadata": {
    "colab": {
      "provenance": []
    },
    "kernelspec": {
      "name": "python3",
      "display_name": "Python 3"
    },
    "language_info": {
      "name": "python"
    }
  },
  "cells": [
    {
      "cell_type": "code",
      "source": [
        "pip install palmerpenguins"
      ],
      "metadata": {
        "colab": {
          "base_uri": "https://localhost:8080/"
        },
        "id": "ft_WYOPgkcCM",
        "outputId": "c894a8a5-508f-49fc-b6ed-12817e7e648d"
      },
      "execution_count": 10,
      "outputs": [
        {
          "output_type": "stream",
          "name": "stdout",
          "text": [
            "Collecting palmerpenguins\n",
            "  Downloading palmerpenguins-0.1.4-py3-none-any.whl.metadata (2.0 kB)\n",
            "Requirement already satisfied: pandas in /usr/local/lib/python3.10/dist-packages (from palmerpenguins) (2.2.2)\n",
            "Requirement already satisfied: numpy in /usr/local/lib/python3.10/dist-packages (from palmerpenguins) (1.26.4)\n",
            "Requirement already satisfied: python-dateutil>=2.8.2 in /usr/local/lib/python3.10/dist-packages (from pandas->palmerpenguins) (2.8.2)\n",
            "Requirement already satisfied: pytz>=2020.1 in /usr/local/lib/python3.10/dist-packages (from pandas->palmerpenguins) (2024.2)\n",
            "Requirement already satisfied: tzdata>=2022.7 in /usr/local/lib/python3.10/dist-packages (from pandas->palmerpenguins) (2024.2)\n",
            "Requirement already satisfied: six>=1.5 in /usr/local/lib/python3.10/dist-packages (from python-dateutil>=2.8.2->pandas->palmerpenguins) (1.16.0)\n",
            "Downloading palmerpenguins-0.1.4-py3-none-any.whl (17 kB)\n",
            "Installing collected packages: palmerpenguins\n",
            "Successfully installed palmerpenguins-0.1.4\n"
          ]
        }
      ]
    },
    {
      "cell_type": "code",
      "execution_count": 11,
      "metadata": {
        "id": "b69ul3XcoRQv"
      },
      "outputs": [],
      "source": [
        "import numpy as np\n",
        "import pandas as pd\n",
        "from sys import exit\n",
        "from palmerpenguins import load_penguins\n",
        "from plotnine import ggplot, aes, geom_point, geom_bar"
      ]
    },
    {
      "cell_type": "markdown",
      "source": [
        "1. Fill in the necessary code to write a function called `times_seven()`. The function should take a single argument (`x`) and multiply the input by 7.\n",
        "  + This function should check that the argument is numeric.\n",
        "  + This function should also excitedly announce (print) *“I love sevens!”* if the argument to the function is a 7."
      ],
      "metadata": {
        "id": "1Q8_a-5qociG"
      }
    },
    {
      "cell_type": "code",
      "source": [
        "def times_seven(x):\n",
        "  \"\"\"\n",
        "  Multiplies a numeric argument by seven.\n",
        "  If the argument is a 7, it will also print a message.\n",
        "\n",
        "  Parameter\n",
        "  ---------\n",
        "  x : num\n",
        "    A single numeric argument.\n",
        "\n",
        "  Returns\n",
        "  -------\n",
        "  num\n",
        "    A single numeric argument that is seven times greater than the given x.\n",
        "    If x == 7, will print a message.\n",
        "  \"\"\"\n",
        "  # If given a list of integers or floats, will multiply each by seven\n",
        "  if isinstance(x, list):\n",
        "        result = []\n",
        "        for value in x:\n",
        "            if not isinstance(value, (int, float)):\n",
        "                exit(f\"Argument {value} is not numeric\")\n",
        "            else:\n",
        "                multiplied_value = value * 7\n",
        "                result.append(multiplied_value)\n",
        "                if value == 7:\n",
        "                    print(\"I love sevens!\")\n",
        "        return result\n",
        "  # If given a single integer or float, will multiply it by seven\n",
        "  else:\n",
        "      if not isinstance(x, (int, float)):\n",
        "        exit(\"Argument is not numeric\")\n",
        "\n",
        "      else:\n",
        "        seven = x * 7\n",
        "        if x == 7:\n",
        "          print(\"I love sevens!\")\n",
        "\n",
        "      return seven"
      ],
      "metadata": {
        "id": "l5CW0nuloYzy"
      },
      "execution_count": 19,
      "outputs": []
    },
    {
      "cell_type": "markdown",
      "source": [
        "2. Write and run some *unit tests* for your `times_seven` function.  What happens if the input to the function is `[1, 3, 5, 7]`?"
      ],
      "metadata": {
        "id": "nonjYlruotrq"
      }
    },
    {
      "cell_type": "code",
      "source": [
        "import unittest\n",
        "\n",
        "class TestTimesSeven(unittest.TestCase):\n",
        "\n",
        "    # Test with valid integer input\n",
        "    def test_integer(self):\n",
        "        self.assertEqual(times_seven(5), 35)\n",
        "    # Test with valid float input\n",
        "    def test_float(self):\n",
        "        self.assertEqual(times_seven(3.5), 24.5)\n",
        "    # Test with the input 7\n",
        "    def test_love_sevens(self):\n",
        "        self.assertEqual(times_seven(7), 49)\n",
        "    # Test with valid integer input (list)\n",
        "    def test_list(self):\n",
        "        self.assertEqual(times_seven([1, 3, .5, 6]), [7, 21, 3.5, 42])\n",
        "    # Test with invalid non-numeric input (list)\n",
        "    def test_non_numeric(self):\n",
        "        with self.assertRaises(SystemExit):\n",
        "            times_seven([1, \"3\", 5, 7])\n",
        "    # Test with string input\n",
        "    def test_string(self):\n",
        "        with self.assertRaises(SystemExit):\n",
        "            times_seven(\"abc\")\n",
        "\n",
        "\n",
        "if __name__ == '__main__':\n",
        "    unittest.main(argv=[''], exit=False)\n"
      ],
      "metadata": {
        "id": "C0gwYTL_mV_N",
        "outputId": "108ef021-97d6-4721-8609-0f2f29299d24",
        "colab": {
          "base_uri": "https://localhost:8080/"
        }
      },
      "execution_count": 23,
      "outputs": [
        {
          "output_type": "stream",
          "name": "stderr",
          "text": [
            "......\n",
            "----------------------------------------------------------------------\n",
            "Ran 6 tests in 0.014s\n",
            "\n",
            "OK\n"
          ]
        },
        {
          "output_type": "stream",
          "name": "stdout",
          "text": [
            "I love sevens!\n"
          ]
        }
      ]
    },
    {
      "cell_type": "markdown",
      "source": [
        "3. Consider the following function:"
      ],
      "metadata": {
        "id": "98sLHKBno39e"
      }
    },
    {
      "cell_type": "code",
      "source": [
        "def add_or_subtract(first_num, second_num = 2, type = \"add\"):\n",
        "  \"\"\"\n",
        "  Does arithmetic on two numeric arguments.\n",
        "\n",
        "  Parameter\n",
        "  ---------\n",
        "  first_num : num\n",
        "    A single numeric argument.\n",
        "  second_num : num\n",
        "    A single numeric argument, defaulted value of 2.\n",
        "  type : string\n",
        "    A string to identify the operation to be performed, defaulted value of \"add\".\n",
        "\n",
        "\n",
        "  Returns\n",
        "  -------\n",
        "  num\n",
        "    A numeric created from a chosen operation done on first_num and second_num.\n",
        "  \"\"\"\n",
        "\n",
        "  if not isinstance(first_num, (int, float)):\n",
        "    exit(\"First Num argument is not numeric\")\n",
        "  elif not isinstance(second_num, (int, float)):\n",
        "    exit(\"Second Num argument is not numeric\")\n",
        "  else:\n",
        "    if (type == \"add\"):\n",
        "      result = first_num + second_num\n",
        "    elif (type == \"subtract\"):\n",
        "      result = first_num - second_num\n",
        "    else:\n",
        "      exit(\"Please choose `add` or `subtract` as the type.\")\n",
        "\n",
        "    return result"
      ],
      "metadata": {
        "id": "V1xGEwq-o5mh"
      },
      "execution_count": 24,
      "outputs": []
    },
    {
      "cell_type": "markdown",
      "source": [
        "**Without running the code**, predict if the following will produce:\n",
        "\n",
        "a. 1 <br>\n",
        "Yes can reach this through add_or_subtract(3, 2, 'subtract')\n",
        "\n",
        "b. -1<br>\n",
        "Yes can reach this through add_or_subtract(2, 3, 'subtract')\n",
        "\n",
        "c. 30<br>\n",
        "Yes can reach this through add_or_subtract(28)\n",
        "\n",
        "d. An error defined by the function `add_or_subtract()` <br>\n",
        "Yes, you can get an error either by a non-numeric first or second number or by asking for\n",
        "\n",
        "e. An error defined in a different function, which is called inside the `add_or_subtract()` function<br>\n",
        "Should not have any internal functions give errors as we have created custom error messages in our code to cover all bases."
      ],
      "metadata": {
        "id": "KIzEYgR1pI0K"
      }
    },
    {
      "cell_type": "code",
      "source": [
        "# This example has no errors\n",
        "add_or_subtract(5, 6, type = \"subtract\")\n",
        "\n",
        "# This example raises an error when inputting a string\n",
        "add_or_subtract(\"orange\")\n",
        "\n",
        "# This example raises an error when inputting \"multiply\" as type\n",
        "add_or_subtract(5, 6, type = \"multiply\")"
      ],
      "metadata": {
        "id": "AKN_fkigpHIS",
        "colab": {
          "base_uri": "https://localhost:8080/",
          "height": 108
        },
        "collapsed": true,
        "outputId": "bbd35ddb-a382-40e7-88bb-b037e8fe82db"
      },
      "execution_count": 26,
      "outputs": [
        {
          "output_type": "error",
          "ename": "SystemExit",
          "evalue": "First Num argument is not numeric",
          "traceback": [
            "An exception has occurred, use %tb to see the full traceback.\n",
            "\u001b[0;31mSystemExit\u001b[0m\u001b[0;31m:\u001b[0m First Num argument is not numeric\n"
          ]
        },
        {
          "output_type": "stream",
          "name": "stderr",
          "text": [
            "/usr/local/lib/python3.10/dist-packages/IPython/core/interactiveshell.py:3561: UserWarning: To exit: use 'exit', 'quit', or Ctrl-D.\n"
          ]
        }
      ]
    },
    {
      "cell_type": "markdown",
      "source": [
        "4. Consider the following code:"
      ],
      "metadata": {
        "id": "Z0_cVjgdpOSr"
      }
    },
    {
      "cell_type": "code",
      "source": [
        "first_num  = 5\n",
        "second_num = 3\n",
        "\n",
        "result = 8\n",
        "\n",
        "result = add_or_subtract(first_num, second_num = 4)\n",
        "\n",
        "result_2 = add_or_subtract(first_num)\n",
        "\n",
        "print(first_num)\n",
        "print(second_num)\n",
        "print(result)\n",
        "print(result_2)"
      ],
      "metadata": {
        "id": "G4ImmGWGpekK",
        "outputId": "d970f59b-5cf2-4b94-f302-532405c58b61",
        "colab": {
          "base_uri": "https://localhost:8080/"
        }
      },
      "execution_count": 27,
      "outputs": [
        {
          "output_type": "stream",
          "name": "stdout",
          "text": [
            "5\n",
            "3\n",
            "9\n",
            "7\n"
          ]
        }
      ]
    },
    {
      "cell_type": "markdown",
      "source": [
        "\n",
        "In your Global Environment, what is the value of...\n",
        "\n",
        "a. `first_num`\n",
        "\n",
        "b. `second_num`\n",
        "\n",
        "c. `result`\n",
        "\n",
        "d. `result_2`"
      ],
      "metadata": {
        "id": "K0I7k29Qpjfo"
      }
    }
  ]
}